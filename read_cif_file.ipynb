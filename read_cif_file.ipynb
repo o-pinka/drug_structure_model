{
 "cells": [
  {
   "cell_type": "code",
   "execution_count": 1,
   "id": "938615a7",
   "metadata": {},
   "outputs": [],
   "source": [
    "f = open(\"PRDCC_000001.cif\",\"r\")\n",
    "lines = f.readlines()\n",
    "f.close()"
   ]
  },
  {
   "cell_type": "code",
   "execution_count": 2,
   "id": "97b833bf",
   "metadata": {},
   "outputs": [
    {
     "name": "stdout",
     "output_type": "stream",
     "text": [
      "['data_PRDCC_000001\\n', '# \\n', '_chem_comp.id                                    PRD_000001 \\n', '_chem_comp.name                                  \"Actinomycin D\" \\n', '_chem_comp.formula                               \"C62 H86 N12 O16\" \\n', '_chem_comp.formula_weight                        1255.417 \\n', '_chem_comp.pdbx_release_status                   REF_ONLY \\n', '_chem_comp.type                                  peptide-like \\n', '_chem_comp.pdbx_type                             ? \\n', '_chem_comp.mon_nstd_parent_comp_id               ? \\n', '_chem_comp.pdbx_synonyms                         ? \\n', '_chem_comp.pdbx_formal_charge                    ? \\n', '_chem_comp.pdbx_initial_date                     ? \\n', '_chem_comp.pdbx_modified_date                    ? \\n', '_chem_comp.pdbx_ambiguous_flag                   ? \\n', '_chem_comp.pdbx_replaced_by                      ? \\n', '_chem_comp.pdbx_replaces                         ? \\n', '_chem_comp.one_letter_code                       ? \\n', '_chem_comp.three_letter_code                     ? \\n', '_chem_comp.pdbx_model_coordinates_details        ? \\n', '_chem_comp.pdbx_model_coordinates_missing_flag   ? \\n', '_chem_comp.pdbx_ideal_coordinates_details        ? \\n', '_chem_comp.pdbx_ideal_coordinates_missing_flag   ? \\n', '_chem_comp.pdbx_model_coordinates_db_code        ? \\n', '_chem_comp.pdbx_subcomponent_list                ? \\n', '_chem_comp.pdbx_processing_site                  ? \\n', '# \\n', 'loop_\\n', '_chem_comp_atom.comp_id \\n', '_chem_comp_atom.atom_id \\n', '_chem_comp_atom.alt_atom_id \\n', '_chem_comp_atom.type_symbol \\n', '_chem_comp_atom.charge \\n', '_chem_comp_atom.pdbx_align \\n', '_chem_comp_atom.pdbx_aromatic_flag \\n', '_chem_comp_atom.pdbx_leaving_atom_flag \\n', '_chem_comp_atom.pdbx_stereo_config \\n', '_chem_comp_atom.model_Cartn_x \\n', '_chem_comp_atom.model_Cartn_y \\n', '_chem_comp_atom.model_Cartn_z \\n', '_chem_comp_atom.pdbx_model_Cartn_x_ideal \\n', '_chem_comp_atom.pdbx_model_Cartn_y_ideal \\n', '_chem_comp_atom.pdbx_model_Cartn_z_ideal \\n', '_chem_comp_atom.pdbx_component_comp_id \\n', '_chem_comp_atom.pdbx_residue_numbering \\n', '_chem_comp_atom.pdbx_component_atom_id \\n', '_chem_comp_atom.pdbx_polymer_type \\n', '_chem_comp_atom.pdbx_ref_id \\n', '_chem_comp_atom.pdbx_component_id \\n', '_chem_comp_atom.pdbx_ordinal \\n', 'PRD_000001 N1  N1  N 0 1 N N N 11.239 9.853  11.574 -3.435  1.510  0.228  THR 1  N    polymer 1 1 1   \\n', 'PRD_000001 C1  C1  C 0 1 N N S 12.334 9.171  10.911 -3.420  0.851  1.536  THR 1  CA   polymer 1 1 2   \\n', 'PRD_000001 C2  C2  C 0 1 N N N 12.770 10.028 9.704  -3.606  -0.633 1.354  THR 1  C    polymer 1 1 3   \\n', 'PRD_000001 O1  O1  O 0 1 N N N 12.014 10.868 9.208  -4.601  -1.188 1.771  THR 1  O    polymer 1 1 4   \\n', 'PRD_000001 C3  C3  C 0 1 N N R 11.959 7.792  10.343 -4.554  1.406  2.399  THR 1  CB   polymer 1 1 5   \\n', 'PRD_000001 O2  O2  O 0 1 N N N 10.955 8.024  9.303  -5.827  1.161  1.744  THR 1  OG1  polymer 1 1 6   \\n', 'PRD_000001 C4  C4  C 0 1 N N N 11.393 6.816  11.354 -4.361  2.911  2.590  THR 1  CG2  polymer 1 1 7   \\n', 'PRD_000001 N2  N2  N 0 1 N N N 13.977 9.697  9.219  -2.630  -1.342 0.706  DVA 2  N    polymer 1 1 8   \\n', 'PRD_000001 C5  C5  C 0 1 N N R 14.400 10.046 7.850  -2.915  -2.793 0.569  DVA 2  CA   polymer 1 1 9   \\n', 'PRD_000001 C6  C6  C 0 1 N N N 15.381 8.997  7.328  -1.970  -3.409 -0.464 DVA 2  CB   polymer 1 1 10  \\n', 'PRD_000001 C7  C7  C 0 1 N N N 14.845 7.571  7.461  -2.226  -2.775 -1.832 DVA 2  CG1  polymer 1 1 11  \\n', 'PRD_000001 C8  C8  C 0 1 N N N 15.687 9.292  5.851  -0.521  -3.153 -0.046 DVA 2  CG2  polymer 1 1 12  \\n', 'PRD_000001 C9  C9  C 0 1 N N N 15.062 11.430 7.851  -4.342  -2.951 0.111  DVA 2  C    polymer 1 1 13  \\n', 'PRD_000001 O3  O3  O 0 1 N N N 16.133 11.611 8.444  -5.101  -2.007 0.159  DVA 2  O    polymer 1 1 14  \\n', 'PRD_000001 N3  N3  N 0 1 N N N 14.478 12.426 7.155  -4.777  -4.139 -0.352 PRO 3  N    polymer 1 1 15  \\n', 'PRD_000001 C10 C10 C 0 1 N N S 13.103 12.449 6.628  -6.132  -4.417 -0.833 PRO 3  CA   polymer 1 1 16  \\n', 'PRD_000001 C11 C11 C 0 1 N N N 13.002 11.728 5.298  -7.138  -3.776 0.088  PRO 3  C    polymer 1 1 17  \\n', 'PRD_000001 O4  O4  O 0 1 N N N 13.898 11.907 4.452  -7.183  -4.074 1.262  PRO 3  O    polymer 1 1 18  \\n', 'PRD_000001 C12 C12 C 0 1 N N N 12.833 13.949 6.417  -6.326  -5.938 -0.839 PRO 3  CB   polymer 1 1 19  \\n', 'PRD_000001 C13 C13 C 0 1 N N N 14.204 14.558 6.176  -4.942  -6.546 -0.564 PRO 3  CG   polymer 1 1 20  \\n', 'PRD_000001 C14 C14 C 0 1 N N N 15.120 13.762 7.086  -3.974  -5.361 -0.454 PRO 3  CD   polymer 1 1 21  \\n', 'PRD_000001 N4  N4  N 0 1 N N N 11.918 10.987 5.019  -8.000  -2.847 -0.433 SAR 4  N    polymer 1 1 22  \\n', 'PRD_000001 C15 C15 C 0 1 N N N 10.804 10.699 5.913  -8.933  -2.251 0.557  SAR 4  CA   polymer 1 1 23  \\n', 'PRD_000001 C16 C16 C 0 1 N N N 10.805 9.234  6.391  -8.680  -0.766 0.611  SAR 4  C    polymer 1 1 24  \\n', 'PRD_000001 O5  O5  O 0 1 N N N 11.786 8.528  6.236  -8.552  -0.127 -0.412 SAR 4  O    polymer 1 1 25  \\n', 'PRD_000001 C17 C17 C 0 1 N N N 11.819 10.406 3.671  -8.003  -2.473 -1.849 SAR 4  CN   polymer 1 1 26  \\n', 'PRD_000001 N5  N5  N 0 1 N N N 9.678  8.790  6.987  -8.597  -0.152 1.825  MVA 5  N    polymer 1 1 27  \\n', 'PRD_000001 C18 C18 C 0 1 N N N 8.548  9.615  7.349  -8.798  -0.882 3.079  MVA 5  CN   polymer 1 1 28  \\n', 'PRD_000001 C19 C19 C 0 1 N N S 9.655  7.374  7.433  -8.293  1.295  1.801  MVA 5  CA   polymer 1 1 29  \\n', 'PRD_000001 C20 C20 C 0 1 N N N 9.517  6.349  6.292  -9.349  2.055  2.605  MVA 5  CB   polymer 1 1 30  \\n', 'PRD_000001 C21 C21 C 0 1 N N N 8.558  6.846  5.213  -9.106  3.559  2.472  MVA 5  CG1  polymer 1 1 31  \\n', 'PRD_000001 C22 C22 C 0 1 N N N 9.007  5.010  6.846  -10.741 1.713  2.070  MVA 5  CG2  polymer 1 1 32  \\n', 'PRD_000001 C23 C23 C 0 1 N N N 10.832 7.068  8.365  -6.934  1.515  2.414  MVA 5  C    polymer 1 1 33  \\n', 'PRD_000001 O6  O6  O 0 1 N N N 11.505 6.073  8.318  -6.842  2.011  3.512  MVA 5  O    polymer 1 1 34  \\n', 'PRD_000001 C24 C24 C 0 1 Y N N 9.829  10.483 13.447 -2.286  2.594  -1.635 PXZ 6  C1   polymer 1 1 35  \\n', 'PRD_000001 C25 C25 C 0 1 N N N 10.984 9.701  12.900 -2.274  1.821  -0.384 PXZ 6  C    polymer 1 1 36  \\n', 'PRD_000001 O7  O7  O 0 1 N N N 11.594 8.861  13.578 -1.217  1.462  0.099  PXZ 6  O    polymer 1 1 37  \\n', 'PRD_000001 C26 C26 C 0 1 Y N N 9.011  9.892  14.407 -3.387  3.365  -1.976 PXZ 6  C2   polymer 1 1 38  \\n', 'PRD_000001 N6  N6  N 0 1 N N N 9.278  8.737  15.031 -4.481  3.411  -1.142 PXZ 6  N2   polymer 1 1 39  \\n', 'PRD_000001 C27 C27 C 0 1 Y N N 7.693  10.511 14.810 -3.384  4.134  -3.233 PXZ 6  C3   polymer 1 1 40  \\n', 'PRD_000001 O8  O8  O 0 1 N N N 6.957  9.886  15.563 -4.357  4.811  -3.527 PXZ 6  O3   polymer 1 1 41  \\n', 'PRD_000001 C28 C28 C 0 1 Y N N 7.353  11.809 14.270 -2.281  4.100  -4.093 PXZ 6  C4   polymer 1 1 42  \\n', 'PRD_000001 O9  O9  O 0 1 Y N N 7.968  13.676 13.042 -0.109  3.314  -4.619 PXZ 6  O5   polymer 1 1 43  \\n', 'PRD_000001 C29 C29 C 0 1 Y N N 8.537  15.714 11.989 2.068   2.523  -5.141 PXZ 6  C6   polymer 1 1 44  \\n', 'PRD_000001 C30 C30 C 0 1 Y N N 9.497  16.460 11.322 3.171   1.762  -4.817 PXZ 6  C7   polymer 1 1 45  \\n', 'PRD_000001 C31 C31 C 0 1 Y N N 10.738 15.930 11.000 3.204   1.024  -3.641 PXZ 6  C8   polymer 1 1 46  \\n', 'PRD_000001 C32 C32 C 0 1 Y N N 11.082 14.626 11.337 2.132   1.061  -2.761 PXZ 6  C9   polymer 1 1 47  \\n', 'PRD_000001 C33 C33 C 0 1 N N N 12.405 14.112 10.801 2.170   0.276  -1.511 PXZ 6  \"C\\'\" polymer 1 1 48  \\n', 'PRD_000001 O10 O10 O 0 1 N N N 12.686 14.334 9.632  1.235   0.322  -0.736 PXZ 6  \"O\\'\" polymer 1 1 49  \\n', 'PRD_000001 N7  N7  N 0 1 Y N N 10.421 12.513 12.329 -0.060  1.852  -2.251 PXZ 6  N10  polymer 1 1 50  \\n', 'PRD_000001 C34 C34 C 0 1 Y N N 9.539  11.832 13.046 -1.129  2.568  -2.541 PXZ 6  C11  polymer 1 1 51  \\n', 'PRD_000001 C35 C35 C 0 1 Y N N 8.270  12.423 13.489 -1.172  3.346  -3.788 PXZ 6  C12  polymer 1 1 52  \\n', 'PRD_000001 C36 C36 C 0 1 Y N N 8.905  14.425 12.339 0.966   2.563  -4.291 PXZ 6  C13  polymer 1 1 53  \\n', 'PRD_000001 C37 C37 C 0 1 Y N N 10.141 13.837 12.035 0.988   1.835  -3.084 PXZ 6  C14  polymer 1 1 54  \\n', 'PRD_000001 C38 C38 C 0 1 N N N 6.024  12.433 14.636 -2.310  4.898  -5.371 PXZ 6  C15  polymer 1 1 55  \\n', 'PRD_000001 C39 C39 C 0 1 N N N 7.144  16.220 12.287 2.056   3.315  -6.423 PXZ 6  C16  polymer 1 1 56  \\n', 'PRD_000001 N8  N8  N 0 1 N N N 13.254 13.495 11.645 3.242   -0.491 -1.229 THR 7  N    polymer 1 1 57  \\n', 'PRD_000001 C40 C40 C 0 1 N N S 14.547 13.042 11.160 3.239   -1.343 -0.038 THR 7  CA   polymer 1 1 58  \\n', 'PRD_000001 C41 C41 C 0 1 N N N 15.020 11.780 11.895 3.801   -0.575 1.130  THR 7  C    polymer 1 1 59  \\n', 'PRD_000001 O11 O11 O 0 1 N N N 14.570 11.454 12.995 4.847   -0.909 1.646  THR 7  O    polymer 1 1 60  \\n', 'PRD_000001 C42 C42 C 0 1 N N R 15.651 14.077 11.270 4.100   -2.582 -0.295 THR 7  CB   polymer 1 1 61  \\n', 'PRD_000001 O12 O12 O 0 1 N N N 15.972 14.173 12.687 5.459   -2.173 -0.600 THR 7  OG1  polymer 1 1 62  \\n', 'PRD_000001 C43 C43 C 0 1 N N N 15.337 15.465 10.784 3.526   -3.366 -1.477 THR 7  CG2  polymer 1 1 63  \\n', 'PRD_000001 N9  N9  N 0 1 N N N 16.011 11.145 11.277 3.106   0.509  1.597  DVA 8  N    polymer 1 1 64  \\n', 'PRD_000001 C44 C44 C 0 1 N N R 16.845 10.136 11.928 3.749   1.202  2.742  DVA 8  CA   polymer 1 1 65  \\n', 'PRD_000001 C45 C45 C 0 1 N N N 18.137 9.934  11.127 3.105   2.575  2.942  DVA 8  CB   polymer 1 1 66  \\n', 'PRD_000001 C46 C46 C 0 1 N N N 19.040 8.911  11.803 3.368   3.445  1.711  DVA 8  CG1  polymer 1 1 67  \\n', 'PRD_000001 C47 C47 C 0 1 N N N 18.880 11.253 10.953 1.597   2.408  3.136  DVA 8  CG2  polymer 1 1 68  \\n', 'PRD_000001 C48 C48 C 0 1 N N N 16.083 8.815  12.027 5.214   1.367  2.430  DVA 8  C    polymer 1 1 69  \\n', 'PRD_000001 O13 O13 O 0 1 N N N 15.724 8.211  11.006 5.710   0.751  1.511  DVA 8  O    polymer 1 1 70  \\n', 'PRD_000001 N10 N10 N 0 1 N N N 15.870 8.269  13.254 5.974   2.199  3.169  PRO 9  N    polymer 1 1 71  \\n', 'PRD_000001 C49 C49 C 0 1 N N S 15.940 9.010  14.539 7.402   2.452  2.961  PRO 9  CA   polymer 1 1 72  \\n', 'PRD_000001 C50 C50 C 0 1 N N N 17.351 9.089  15.081 8.111   1.152  2.677  PRO 9  C    polymer 1 1 73  \\n', 'PRD_000001 O14 O14 O 0 1 N N N 18.145 8.174  14.863 8.094   0.247  3.484  PRO 9  O    polymer 1 1 74  \\n', 'PRD_000001 C51 C51 C 0 1 N N N 15.056 8.059  15.446 7.959   3.080  4.244  PRO 9  CB   polymer 1 1 75  \\n', 'PRD_000001 C52 C52 C 0 1 N N N 15.274 6.682  14.849 6.743   3.401  5.126  PRO 9  CG   polymer 1 1 76  \\n', 'PRD_000001 C53 C53 C 0 1 N N N 15.249 6.951  13.380 5.510   2.993  4.309  PRO 9  CD   polymer 1 1 77  \\n', 'PRD_000001 N11 N11 N 0 1 N N N 17.659 10.110 15.892 8.774   1.017  1.486  SAR 10 N    polymer 1 1 78  \\n', 'PRD_000001 C54 C54 C 0 1 N N N 16.849 11.305 16.051 9.415   -0.307 1.286  SAR 10 CA   polymer 1 1 79  \\n', 'PRD_000001 C55 C55 C 0 1 N N N 17.302 12.437 15.113 8.805   -0.949 0.067  SAR 10 C    polymer 1 1 80  \\n', 'PRD_000001 O15 O15 O 0 1 N N N 18.160 12.229 14.266 8.642   -0.307 -0.949 SAR 10 O    polymer 1 1 81  \\n', 'PRD_000001 C56 C56 C 0 1 N N N 19.050 10.179 16.435 8.846   2.091  0.492  SAR 10 CN   polymer 1 1 82  \\n', 'PRD_000001 N12 N12 N 0 1 N N N 16.740 13.649 15.291 8.439   -2.260 0.123  MVA 11 N    polymer 1 1 83  \\n', 'PRD_000001 C57 C57 C 0 1 N N N 15.588 13.869 16.153 8.668   -3.080 1.316  MVA 11 CN   polymer 1 1 84  \\n', 'PRD_000001 C58 C58 C 0 1 N N S 17.287 14.782 14.520 7.796   -2.807 -1.091 MVA 11 CA   polymer 1 1 85  \\n', 'PRD_000001 C59 C59 C 0 1 N N N 18.611 15.263 15.095 8.538   -4.067 -1.541 MVA 11 CB   polymer 1 1 86  \\n', 'PRD_000001 C60 C60 C 0 1 N N N 18.443 15.417 16.631 7.871   -4.630 -2.798 MVA 11 CG1  polymer 1 1 87  \\n', 'PRD_000001 C61 C61 C 0 1 N N N 19.025 16.511 14.530 9.995   -3.718 -1.850 MVA 11 CG2  polymer 1 1 88  \\n', 'PRD_000001 C62 C62 C 0 1 N N N 17.233 14.535 13.033 6.364   -3.150 -0.771 MVA 11 C    polymer 1 1 89  \\n', 'PRD_000001 O16 O16 O 0 1 N N N 18.113 14.733 12.236 6.031   -4.306 -0.666 MVA 11 O    polymer 1 1 90  \\n', 'PRD_000001 H1  H1  H 0 1 N N N 10.651 10.457 11.036 -4.280  1.718  -0.201 THR 1  H    polymer 1 1 91  \\n', 'PRD_000001 H2  H2  H 0 1 N N N 13.186 9.058  11.598 -2.465  1.039  2.027  THR 1  HA   polymer 1 1 92  \\n', 'PRD_000001 H3  H3  H 0 1 N N N 12.857 7.348  9.890  -4.546  0.912  3.371  THR 1  HB   polymer 1 1 93  \\n', 'PRD_000001 H4  H4  H 0 0 N N N 11.157 5.865  10.854 -4.369  3.405  1.618  THR 1  HG21 polymer 1 1 94  \\n', 'PRD_000001 H5  H5  H 0 0 N N N 12.134 6.639  12.147 -5.169  3.307  3.205  THR 1  HG22 polymer 1 1 95  \\n', 'PRD_000001 H6  H6  H 0 0 N N N 10.477 7.235  11.795 -3.406  3.095  3.083  THR 1  HG23 polymer 1 1 96  \\n', 'PRD_000001 H7  H7  H 0 1 N N N 14.612 9.196  9.807  -1.820  -0.931 0.365  DVA 2  H    polymer 1 1 97  \\n', 'PRD_000001 H8  H8  H 0 1 N N N 13.522 10.073 7.188  -2.780  -3.286 1.532  DVA 2  HA   polymer 1 1 98  \\n', 'PRD_000001 H9  H9  H 0 1 N N N 16.317 9.075  7.901  -2.147  -4.483 -0.522 DVA 2  HB   polymer 1 1 99  \\n', 'PRD_000001 H10 H10 H 0 0 N N N 15.589 6.861  7.071  -2.049  -1.701 -1.774 DVA 2  HG11 polymer 1 1 100 \\n', 'PRD_000001 H11 H11 H 0 0 N N N 14.648 7.351  8.521  -1.552  -3.214 -2.568 DVA 2  HG12 polymer 1 1 101 \\n', 'PRD_000001 H12 H12 H 0 0 N N N 13.912 7.475  6.887  -3.258  -2.957 -2.130 DVA 2  HG13 polymer 1 1 102 \\n', 'PRD_000001 H13 H13 H 0 0 N N N 16.393 8.542  5.465  -0.363  -3.525 0.967  DVA 2  HG21 polymer 1 1 103 \\n', 'PRD_000001 H14 H14 H 0 0 N N N 14.755 9.252  5.268  0.152   -3.670 -0.731 DVA 2  HG22 polymer 1 1 104 \\n', 'PRD_000001 H15 H15 H 0 0 N N N 16.132 10.294 5.762  -0.318  -2.083 -0.076 DVA 2  HG23 polymer 1 1 105 \\n', 'PRD_000001 H16 H16 H 0 1 N N N 12.390 12.030 7.353  -6.253  -4.024 -1.842 PRO 3  HA   polymer 1 1 106 \\n', 'PRD_000001 H17 H17 H 0 1 N N N 12.180 14.107 5.546  -7.026  -6.230 -0.056 PRO 3  HB2  polymer 1 1 107 \\n', 'PRD_000001 H18 H18 H 0 1 N N N 12.365 14.388 7.310  -6.694  -6.266 -1.811 PRO 3  HB3  polymer 1 1 108 \\n', 'PRD_000001 H19 H19 H 0 1 N N N 14.503 14.445 5.123  -4.957  -7.107 0.371  PRO 3  HG2  polymer 1 1 109 \\n', 'PRD_000001 H20 H20 H 0 1 N N N 14.212 15.624 6.447  -4.648  -7.197 -1.387 PRO 3  HG3  polymer 1 1 110 \\n', 'PRD_000001 H21 H21 H 0 1 N N N 15.177 14.221 8.084  -3.343  -5.315 -1.342 PRO 3  HD2  polymer 1 1 111 \\n', 'PRD_000001 H22 H22 H 0 1 N N N 16.131 13.689 6.658  -3.354  -5.471 0.435  PRO 3  HD3  polymer 1 1 112 \\n', 'PRD_000001 H23 H23 H 0 1 N N N 10.875 11.358 6.791  -9.962  -2.438 0.251  SAR 4  HA2  polymer 1 1 113 \\n', 'PRD_000001 H24 H24 H 0 1 N N N 9.862  10.897 5.381  -8.755  -2.689 1.539  SAR 4  HA3  polymer 1 1 114 \\n', 'PRD_000001 H25 H25 H 0 1 N N N 12.707 10.685 3.085  -8.275  -3.339 -2.453 SAR 4  HN1  polymer 1 1 115 \\n', 'PRD_000001 H26 H26 H 0 1 N N N 11.760 9.310  3.748  -8.726  -1.674 -2.013 SAR 4  HN2  polymer 1 1 116 \\n', 'PRD_000001 H27 H27 H 0 1 N N N 10.916 10.788 3.173  -7.009  -2.128 -2.135 SAR 4  HN3  polymer 1 1 117 \\n', 'PRD_000001 H28 H28 H 0 1 N N N 8.696  10.632 6.957  -8.007  -1.621 3.200  MVA 5  HN1  polymer 1 1 118 \\n', 'PRD_000001 H29 H29 H 0 1 N N N 7.630  9.187  6.921  -8.773  -0.183 3.915  MVA 5  HN2  polymer 1 1 119 \\n', 'PRD_000001 H30 H30 H 0 1 N N N 8.458  9.654  8.445  -9.765  -1.385 3.056  MVA 5  HN3  polymer 1 1 120 \\n', 'PRD_000001 H31 H31 H 0 1 N N N 8.750  7.259  8.047  -8.292  1.651  0.771  MVA 5  HA   polymer 1 1 121 \\n', 'PRD_000001 H32 H32 H 0 1 N N N 10.507 6.190  5.841  -9.283  1.768  3.655  MVA 5  HB   polymer 1 1 122 \\n', 'PRD_000001 H33 H33 H 0 0 N N N 8.482  6.093  4.415  -9.256  3.861  1.435  MVA 5  HG11 polymer 1 1 123 \\n', 'PRD_000001 H34 H34 H 0 0 N N N 7.565  7.014  5.655  -9.806  4.098  3.112  MVA 5  HG12 polymer 1 1 124 \\n', 'PRD_000001 H35 H35 H 0 0 N N N 8.937  7.789  4.792  -8.085  3.791  2.774  MVA 5  HG13 polymer 1 1 125 \\n', 'PRD_000001 H36 H36 H 0 0 N N N 8.912  4.285  6.024  -10.779 1.915  1.000  MVA 5  HG21 polymer 1 1 126 \\n', 'PRD_000001 H37 H37 H 0 0 N N N 9.719  4.627  7.592  -10.950 0.658  2.248  MVA 5  HG22 polymer 1 1 127 \\n', 'PRD_000001 H38 H38 H 0 0 N N N 8.025  5.159  7.319  -11.486 2.322  2.581  MVA 5  HG23 polymer 1 1 128 \\n', 'PRD_000001 H39 H39 H 0 0 N N N 8.541  8.526  15.673 -4.404  3.111  -0.223 PXZ 6  HN21 polymer 1 1 129 \\n', 'PRD_000001 H40 H40 H 0 0 N N N 9.352  8.003  14.356 -5.330  3.745  -1.474 PXZ 6  HN22 polymer 1 1 130 \\n', 'PRD_000001 H41 H41 H 0 1 N N N 9.273  17.480 11.046 4.019   1.739  -5.486 PXZ 6  H7   polymer 1 1 131 \\n', 'PRD_000001 H42 H42 H 0 1 N N N 11.454 16.545 10.475 4.076   0.433  -3.402 PXZ 6  H8   polymer 1 1 132 \\n', 'PRD_000001 H43 H43 H 0 0 N N N 5.929  13.411 14.142 -3.259  5.428  -5.447 PXZ 6  H151 polymer 1 1 133 \\n', 'PRD_000001 H44 H44 H 0 0 N N N 5.207  11.775 14.306 -1.491  5.617  -5.369 PXZ 6  H152 polymer 1 1 134 \\n', 'PRD_000001 H45 H45 H 0 0 N N N 5.969  12.566 15.727 -2.201  4.226  -6.222 PXZ 6  H153 polymer 1 1 135 \\n', 'PRD_000001 H46 H46 H 0 0 N N N 6.479  15.982 11.444 1.643   2.703  -7.225 PXZ 6  H161 polymer 1 1 136 \\n', 'PRD_000001 H47 H47 H 0 0 N N N 6.766  15.737 13.200 1.441   4.206  -6.293 PXZ 6  H162 polymer 1 1 137 \\n', 'PRD_000001 H48 H48 H 0 0 N N N 7.174  17.310 12.434 3.074   3.610  -6.678 PXZ 6  H163 polymer 1 1 138 \\n', 'PRD_000001 H49 H49 H 0 1 N N N 12.996 13.349 12.600 4.015   -0.479 -1.815 THR 7  H    polymer 1 1 139 \\n', 'PRD_000001 H50 H50 H 0 1 N N N 14.444 12.781 10.096 2.218   -1.651 0.187  THR 7  HA   polymer 1 1 140 \\n', 'PRD_000001 H51 H51 H 0 1 N N N 16.531 13.705 10.724 4.102   -3.214 0.593  THR 7  HB   polymer 1 1 141 \\n', 'PRD_000001 H52 H52 H 0 0 N N N 16.218 16.110 10.921 3.444   -2.709 -2.343 THR 7  HG21 polymer 1 1 142 \\n', 'PRD_000001 H53 H53 H 0 0 N N N 15.071 15.428 9.717  4.185   -4.200 -1.714 THR 7  HG22 polymer 1 1 143 \\n', 'PRD_000001 H54 H54 H 0 0 N N N 14.492 15.872 11.359 2.538   -3.746 -1.215 THR 7  HG23 polymer 1 1 144 \\n', 'PRD_000001 H55 H55 H 0 1 N N N 16.195 11.368 10.320 2.264   0.800  1.212  DVA 8  H    polymer 1 1 145 \\n', 'PRD_000001 H56 H56 H 0 1 N N N 17.107 10.471 12.943 3.630   0.605  3.647  DVA 8  HA   polymer 1 1 146 \\n', 'PRD_000001 H57 H57 H 0 1 N N N 17.868 9.554  10.130 3.534   3.053  3.823  DVA 8  HB   polymer 1 1 147 \\n', 'PRD_000001 H58 H58 H 0 0 N N N 19.958 8.784  11.211 2.981   4.449  1.887  DVA 8  HG11 polymer 1 1 148 \\n', 'PRD_000001 H59 H59 H 0 0 N N N 19.300 9.262  12.812 4.440   3.496  1.524  DVA 8  HG12 polymer 1 1 149 \\n', 'PRD_000001 H60 H60 H 0 0 N N N 18.513 7.948  11.874 2.868   3.010  0.845  DVA 8  HG13 polymer 1 1 150 \\n', 'PRD_000001 H61 H61 H 0 0 N N N 19.801 11.082 10.377 1.408   1.857  4.057  DVA 8  HG21 polymer 1 1 151 \\n', 'PRD_000001 H62 H62 H 0 0 N N N 18.238 11.967 10.416 1.128   3.390  3.198  DVA 8  HG22 polymer 1 1 152 \\n', 'PRD_000001 H63 H63 H 0 0 N N N 19.137 11.662 11.941 1.181   1.859  2.292  DVA 8  HG23 polymer 1 1 153 \\n', 'PRD_000001 H64 H64 H 0 1 N N N 15.481 10.007 14.464 7.537   3.136  2.124  PRO 9  HA   polymer 1 1 154 \\n', 'PRD_000001 H65 H65 H 0 1 N N N 15.394 8.090  16.492 8.616   2.374  4.753  PRO 9  HB2  polymer 1 1 155 \\n', 'PRD_000001 H66 H66 H 0 1 N N N 13.995 8.344  15.395 8.503   3.995  4.008  PRO 9  HB3  polymer 1 1 156 \\n', 'PRD_000001 H67 H67 H 0 1 N N N 16.243 6.265  15.159 6.788   2.826  6.051  PRO 9  HG2  polymer 1 1 157 \\n', 'PRD_000001 H68 H68 H 0 1 N N N 14.468 5.992  15.139 6.711   4.467  5.348  PRO 9  HG3  polymer 1 1 158 \\n', 'PRD_000001 H69 H69 H 0 1 N N N 14.216 6.967  13.002 4.991   3.883  3.953  PRO 9  HD2  polymer 1 1 159 \\n', 'PRD_000001 H70 H70 H 0 1 N N N 15.827 6.192  12.833 4.838   2.396  4.926  PRO 9  HD3  polymer 1 1 160 \\n', 'PRD_000001 H71 H71 H 0 1 N N N 15.801 11.056 15.827 10.487  -0.177 1.135  SAR 10 HA2  polymer 1 1 161 \\n', 'PRD_000001 H72 H72 H 0 1 N N N 16.929 11.653 17.092 9.240   -0.935 2.159  SAR 10 HA3  polymer 1 1 162 \\n', 'PRD_000001 H73 H73 H 0 1 N N N 19.562 9.222  16.257 9.246   2.992  0.958  SAR 10 HN1  polymer 1 1 163 \\n', 'PRD_000001 H74 H74 H 0 1 N N N 19.600 10.988 15.932 9.498   1.786  -0.326 SAR 10 HN2  polymer 1 1 164 \\n', 'PRD_000001 H75 H75 H 0 1 N N N 19.012 10.378 17.516 7.848   2.295  0.105  SAR 10 HN3  polymer 1 1 165 \\n', 'PRD_000001 H76 H76 H 0 1 N N N 15.315 12.926 16.648 8.072   -2.693 2.142  MVA 11 HN1  polymer 1 1 166 \\n', 'PRD_000001 H77 H77 H 0 1 N N N 15.838 14.623 16.913 8.377   -4.110 1.110  MVA 11 HN2  polymer 1 1 167 \\n', 'PRD_000001 H78 H78 H 0 1 N N N 14.740 14.224 15.549 9.724   -3.047 1.582  MVA 11 HN3  polymer 1 1 168 \\n', 'PRD_000001 H79 H79 H 0 1 N N N 16.588 15.613 14.694 7.825   -2.062 -1.887 MVA 11 HA   polymer 1 1 169 \\n', 'PRD_000001 H80 H80 H 0 1 N N N 19.376 14.495 14.907 8.503   -4.812 -0.746 MVA 11 HB   polymer 1 1 170 \\n', 'PRD_000001 H81 H81 H 0 0 N N N 19.389 15.765 17.071 8.399   -5.528 -3.118 MVA 11 HG11 polymer 1 1 171 \\n', 'PRD_000001 H82 H82 H 0 0 N N N 17.650 16.150 16.841 6.832   -4.879 -2.577 MVA 11 HG12 polymer 1 1 172 \\n', 'PRD_000001 H83 H83 H 0 0 N N N 18.170 14.446 17.069 7.905   -3.885 -3.592 MVA 11 HG13 polymer 1 1 173 \\n', 'PRD_000001 H84 H84 H 0 0 N N N 19.983 16.816 14.976 10.470  -3.317 -0.955 MVA 11 HG21 polymer 1 1 174 \\n', 'PRD_000001 H85 H85 H 0 0 N N N 19.146 16.399 13.442 10.524  -4.616 -2.171 MVA 11 HG22 polymer 1 1 175 \\n', 'PRD_000001 H86 H86 H 0 0 N N N 18.264 17.278 14.737 10.030  -2.973 -2.645 MVA 11 HG23 polymer 1 1 176 \\n', '# \\n', 'loop_\\n', '_chem_comp_bond.comp_id \\n', '_chem_comp_bond.atom_id_1 \\n', '_chem_comp_bond.atom_id_2 \\n', '_chem_comp_bond.value_order \\n', '_chem_comp_bond.pdbx_aromatic_flag \\n', '_chem_comp_bond.pdbx_stereo_config \\n', '_chem_comp_bond.pdbx_ordinal \\n', 'PRD_000001 N1  C1  SING N N 1   \\n', 'PRD_000001 N1  H1  SING N N 2   \\n', 'PRD_000001 C1  C2  SING N N 3   \\n', 'PRD_000001 C1  C3  SING N N 4   \\n', 'PRD_000001 C1  H2  SING N N 5   \\n', 'PRD_000001 C2  O1  DOUB N N 6   \\n', 'PRD_000001 C3  O2  SING N N 7   \\n', 'PRD_000001 C3  C4  SING N N 8   \\n', 'PRD_000001 C3  H3  SING N N 9   \\n', 'PRD_000001 C4  H4  SING N N 10  \\n', 'PRD_000001 C4  H5  SING N N 11  \\n', 'PRD_000001 C4  H6  SING N N 12  \\n', 'PRD_000001 N2  C5  SING N N 13  \\n', 'PRD_000001 N2  H7  SING N N 14  \\n', 'PRD_000001 C5  C6  SING N N 15  \\n', 'PRD_000001 C5  C9  SING N N 16  \\n', 'PRD_000001 C5  H8  SING N N 17  \\n', 'PRD_000001 C6  C7  SING N N 18  \\n', 'PRD_000001 C6  C8  SING N N 19  \\n', 'PRD_000001 C6  H9  SING N N 20  \\n', 'PRD_000001 C7  H10 SING N N 21  \\n', 'PRD_000001 C7  H11 SING N N 22  \\n', 'PRD_000001 C7  H12 SING N N 23  \\n', 'PRD_000001 C8  H13 SING N N 24  \\n', 'PRD_000001 C8  H14 SING N N 25  \\n', 'PRD_000001 C8  H15 SING N N 26  \\n', 'PRD_000001 C9  O3  DOUB N N 27  \\n', 'PRD_000001 N3  C10 SING N N 28  \\n', 'PRD_000001 N3  C14 SING N N 29  \\n', 'PRD_000001 C10 C11 SING N N 30  \\n', 'PRD_000001 C10 C12 SING N N 31  \\n', 'PRD_000001 C10 H16 SING N N 32  \\n', 'PRD_000001 C11 O4  DOUB N N 33  \\n', 'PRD_000001 C12 C13 SING N N 34  \\n', 'PRD_000001 C12 H17 SING N N 35  \\n', 'PRD_000001 C12 H18 SING N N 36  \\n', 'PRD_000001 C13 C14 SING N N 37  \\n', 'PRD_000001 C13 H19 SING N N 38  \\n', 'PRD_000001 C13 H20 SING N N 39  \\n', 'PRD_000001 C14 H21 SING N N 40  \\n', 'PRD_000001 C14 H22 SING N N 41  \\n', 'PRD_000001 N4  C15 SING N N 42  \\n', 'PRD_000001 N4  C17 SING N N 43  \\n', 'PRD_000001 C15 C16 SING N N 44  \\n', 'PRD_000001 C15 H23 SING N N 45  \\n', 'PRD_000001 C15 H24 SING N N 46  \\n', 'PRD_000001 C16 O5  DOUB N N 47  \\n', 'PRD_000001 C17 H25 SING N N 48  \\n', 'PRD_000001 C17 H26 SING N N 49  \\n', 'PRD_000001 C17 H27 SING N N 50  \\n', 'PRD_000001 N5  C18 SING N N 51  \\n', 'PRD_000001 N5  C19 SING N N 52  \\n', 'PRD_000001 C18 H28 SING N N 53  \\n', 'PRD_000001 C18 H29 SING N N 54  \\n', 'PRD_000001 C18 H30 SING N N 55  \\n', 'PRD_000001 C19 C20 SING N N 56  \\n', 'PRD_000001 C19 C23 SING N N 57  \\n', 'PRD_000001 C19 H31 SING N N 58  \\n', 'PRD_000001 C20 C21 SING N N 59  \\n', 'PRD_000001 C20 C22 SING N N 60  \\n', 'PRD_000001 C20 H32 SING N N 61  \\n', 'PRD_000001 C21 H33 SING N N 62  \\n', 'PRD_000001 C21 H34 SING N N 63  \\n', 'PRD_000001 C21 H35 SING N N 64  \\n', 'PRD_000001 C22 H36 SING N N 65  \\n', 'PRD_000001 C22 H37 SING N N 66  \\n', 'PRD_000001 C22 H38 SING N N 67  \\n', 'PRD_000001 C23 O6  DOUB N N 68  \\n', 'PRD_000001 C24 C25 SING N N 69  \\n', 'PRD_000001 C24 C26 DOUB Y N 70  \\n', 'PRD_000001 C24 C34 SING Y N 71  \\n', 'PRD_000001 C25 O7  DOUB N N 72  \\n', 'PRD_000001 C26 N6  SING N N 73  \\n', 'PRD_000001 C26 C27 SING Y N 74  \\n', 'PRD_000001 N6  H39 SING N N 75  \\n', 'PRD_000001 N6  H40 SING N N 76  \\n', 'PRD_000001 C27 O8  DOUB N N 77  \\n', 'PRD_000001 C27 C28 SING Y N 78  \\n', 'PRD_000001 C28 C35 DOUB Y N 79  \\n', 'PRD_000001 C28 C38 SING N N 80  \\n', 'PRD_000001 O9  C35 SING Y N 81  \\n', 'PRD_000001 O9  C36 SING Y N 82  \\n', 'PRD_000001 C29 C30 DOUB Y N 83  \\n', 'PRD_000001 C29 C36 SING Y N 84  \\n', 'PRD_000001 C29 C39 SING N N 85  \\n', 'PRD_000001 C30 C31 SING Y N 86  \\n', 'PRD_000001 C30 H41 SING N N 87  \\n', 'PRD_000001 C31 C32 DOUB Y N 88  \\n', 'PRD_000001 C31 H42 SING N N 89  \\n', 'PRD_000001 C32 C33 SING N N 90  \\n', 'PRD_000001 C32 C37 SING Y N 91  \\n', 'PRD_000001 C33 O10 DOUB N N 92  \\n', 'PRD_000001 N7  C34 DOUB Y N 93  \\n', 'PRD_000001 N7  C37 SING Y N 94  \\n', 'PRD_000001 C34 C35 SING Y N 95  \\n', 'PRD_000001 C36 C37 DOUB Y N 96  \\n', 'PRD_000001 C38 H43 SING N N 97  \\n', 'PRD_000001 C38 H44 SING N N 98  \\n', 'PRD_000001 C38 H45 SING N N 99  \\n', 'PRD_000001 C39 H46 SING N N 100 \\n', 'PRD_000001 C39 H47 SING N N 101 \\n', 'PRD_000001 C39 H48 SING N N 102 \\n', 'PRD_000001 N8  C40 SING N N 103 \\n', 'PRD_000001 N8  H49 SING N N 104 \\n', 'PRD_000001 C40 C41 SING N N 105 \\n', 'PRD_000001 C40 C42 SING N N 106 \\n', 'PRD_000001 C40 H50 SING N N 107 \\n', 'PRD_000001 C41 O11 DOUB N N 108 \\n', 'PRD_000001 C42 O12 SING N N 109 \\n', 'PRD_000001 C42 C43 SING N N 110 \\n', 'PRD_000001 C42 H51 SING N N 111 \\n', 'PRD_000001 C43 H52 SING N N 112 \\n', 'PRD_000001 C43 H53 SING N N 113 \\n', 'PRD_000001 C43 H54 SING N N 114 \\n', 'PRD_000001 N9  C44 SING N N 115 \\n', 'PRD_000001 N9  H55 SING N N 116 \\n', 'PRD_000001 C44 C45 SING N N 117 \\n', 'PRD_000001 C44 C48 SING N N 118 \\n', 'PRD_000001 C44 H56 SING N N 119 \\n', 'PRD_000001 C45 C46 SING N N 120 \\n', 'PRD_000001 C45 C47 SING N N 121 \\n', 'PRD_000001 C45 H57 SING N N 122 \\n', 'PRD_000001 C46 H58 SING N N 123 \\n', 'PRD_000001 C46 H59 SING N N 124 \\n', 'PRD_000001 C46 H60 SING N N 125 \\n', 'PRD_000001 C47 H61 SING N N 126 \\n', 'PRD_000001 C47 H62 SING N N 127 \\n', 'PRD_000001 C47 H63 SING N N 128 \\n', 'PRD_000001 C48 O13 DOUB N N 129 \\n', 'PRD_000001 N10 C49 SING N N 130 \\n', 'PRD_000001 N10 C53 SING N N 131 \\n', 'PRD_000001 C49 C50 SING N N 132 \\n', 'PRD_000001 C49 C51 SING N N 133 \\n', 'PRD_000001 C49 H64 SING N N 134 \\n', 'PRD_000001 C50 O14 DOUB N N 135 \\n', 'PRD_000001 C51 C52 SING N N 136 \\n', 'PRD_000001 C51 H65 SING N N 137 \\n', 'PRD_000001 C51 H66 SING N N 138 \\n', 'PRD_000001 C52 C53 SING N N 139 \\n', 'PRD_000001 C52 H67 SING N N 140 \\n', 'PRD_000001 C52 H68 SING N N 141 \\n', 'PRD_000001 C53 H69 SING N N 142 \\n', 'PRD_000001 C53 H70 SING N N 143 \\n', 'PRD_000001 N11 C54 SING N N 144 \\n', 'PRD_000001 N11 C56 SING N N 145 \\n', 'PRD_000001 C54 C55 SING N N 146 \\n', 'PRD_000001 C54 H71 SING N N 147 \\n', 'PRD_000001 C54 H72 SING N N 148 \\n', 'PRD_000001 C55 O15 DOUB N N 149 \\n', 'PRD_000001 C56 H73 SING N N 150 \\n', 'PRD_000001 C56 H74 SING N N 151 \\n', 'PRD_000001 C56 H75 SING N N 152 \\n', 'PRD_000001 N12 C57 SING N N 153 \\n', 'PRD_000001 N12 C58 SING N N 154 \\n', 'PRD_000001 C57 H76 SING N N 155 \\n', 'PRD_000001 C57 H77 SING N N 156 \\n', 'PRD_000001 C57 H78 SING N N 157 \\n', 'PRD_000001 C58 C59 SING N N 158 \\n', 'PRD_000001 C58 C62 SING N N 159 \\n', 'PRD_000001 C58 H79 SING N N 160 \\n', 'PRD_000001 C59 C60 SING N N 161 \\n', 'PRD_000001 C59 C61 SING N N 162 \\n', 'PRD_000001 C59 H80 SING N N 163 \\n', 'PRD_000001 C60 H81 SING N N 164 \\n', 'PRD_000001 C60 H82 SING N N 165 \\n', 'PRD_000001 C60 H83 SING N N 166 \\n', 'PRD_000001 C61 H84 SING N N 167 \\n', 'PRD_000001 C61 H85 SING N N 168 \\n', 'PRD_000001 C61 H86 SING N N 169 \\n', 'PRD_000001 C62 O16 DOUB N N 170 \\n', 'PRD_000001 C2  N2  SING N N 171 \\n', 'PRD_000001 O2  C23 SING N N 172 \\n', 'PRD_000001 N1  C25 SING N N 173 \\n', 'PRD_000001 C9  N3  SING N N 174 \\n', 'PRD_000001 C11 N4  SING N N 175 \\n', 'PRD_000001 C16 N5  SING N N 176 \\n', 'PRD_000001 C33 N8  SING N N 177 \\n', 'PRD_000001 C41 N9  SING N N 178 \\n', 'PRD_000001 O12 C62 SING N N 179 \\n', 'PRD_000001 C48 N10 SING N N 180 \\n', 'PRD_000001 C50 N11 SING N N 181 \\n', 'PRD_000001 C55 N12 SING N N 182 \\n', '# \\n', 'loop_\\n', '_pdbx_chem_comp_descriptor.comp_id \\n', '_pdbx_chem_comp_descriptor.type \\n', '_pdbx_chem_comp_descriptor.program \\n', '_pdbx_chem_comp_descriptor.program_version \\n', '_pdbx_chem_comp_descriptor.descriptor \\n', 'PRD_000001 SMILES           ACDLabs              12.01 \"O=C2N1CCCC1C(=O)N(C)CC(=O)N(C)C(C(=O)OC(C)C(C(=O)NC2C(C)C)NC(=O)c3ccc(c4OC5=C(C(=O)C(N)=C(C5=Nc34)C(=O)NC7C(=O)NC(C(=O)N6CCCC6C(=O)N(C)CC(=O)N(C)C(C(=O)OC7C)C(C)C)C(C)C)C)C)C(C)C\"                                                                                                                                                                                                                                                                                 \\n', 'PRD_000001 InChI            InChI                1.03  \"InChI=1S/C62H86N12O16/c1-27(2)42-59(84)73-23-17-19-36(73)57(82)69(13)25-38(75)71(15)48(29(5)6)61(86)88-33(11)44(55(80)65-42)67-53(78)35-22-21-31(9)51-46(35)64-47-40(41(63)50(77)32(10)52(47)90-51)54(79)68-45-34(12)89-62(87)49(30(7)8)72(16)39(76)26-70(14)58(83)37-20-18-24-74(37)60(85)43(28(3)4)66-56(45)81/h21-22,27-30,33-34,36-37,42-45,48-49H,17-20,23-26,63H2,1-16H3,(H,65,80)(H,66,81)(H,67,78)(H,68,79)/t33-,34-,36+,37+,42+,43-,44+,45-,48?,49+/m1/s1\" \\n', 'PRD_000001 InChIKey         InChI                1.03  RJURFGZVJUQBHK-VSWUTOEJSA-N                                                                                                                                                                                                                                                                                                                                                                                                                                          \\n', 'PRD_000001 SMILES_CANONICAL CACTVS               3.370 \"CC(C)[C@H]1NC(=O)[C@@H](NC(=O)c2ccc(C)c3OC4=C(C)C(=O)C(=C(C(=O)N[C@H]5[C@@H](C)OC(=O)[C@H](C(C)C)N(C)C(=O)CN(C)C(=O)[C@@H]6CCCN6C(=O)[C@H](NC5=O)C(C)C)C4=Nc23)N)[C@@H](C)OC(=O)[C@H](C(C)C)N(C)C(=O)CN(C)C(=O)[C@@H]7CCCN7C1=O\"                                                                                                                                                                                                                                    \\n', 'PRD_000001 SMILES           CACTVS               3.370 \"CC(C)[CH]1NC(=O)[CH](NC(=O)c2ccc(C)c3OC4=C(C)C(=O)C(=C(C(=O)N[CH]5[CH](C)OC(=O)[CH](C(C)C)N(C)C(=O)CN(C)C(=O)[CH]6CCCN6C(=O)[CH](NC5=O)C(C)C)C4=Nc23)N)[CH](C)OC(=O)[CH](C(C)C)N(C)C(=O)CN(C)C(=O)[CH]7CCCN7C1=O\"                                                                                                                                                                                                                                                   \\n', 'PRD_000001 SMILES_CANONICAL \"OpenEye OEToolkits\" 1.7.6 \"Cc1ccc(c2c1OC3=C(C(=O)C(=C(C3=N2)C(=O)N[C@H]4[C@H](OC(=O)[C@@H](N(C(=O)CN(C(=O)[C@@H]5CCCN5C(=O)[C@H](NC4=O)C(C)C)C)C)C(C)C)C)N)C)C(=O)N[C@H]6[C@H](OC(=O)[C@@H](N(C(=O)CN(C(=O)[C@@H]7CCCN7C(=O)[C@H](NC6=O)C(C)C)C)C)C(C)C)C\"                                                                                                                                                                                                                                     \\n', 'PRD_000001 SMILES           \"OpenEye OEToolkits\" 1.7.6 \"Cc1ccc(c2c1OC3=C(C(=O)C(=C(C3=N2)C(=O)NC4C(OC(=O)C(N(C(=O)CN(C(=O)C5CCCN5C(=O)C(NC4=O)C(C)C)C)C)C(C)C)C)N)C)C(=O)NC6C(OC(=O)C(N(C(=O)CN(C(=O)C7CCCN7C(=O)C(NC6=O)C(C)C)C)C)C(C)C)C\"                                                                                                                                                                                                                                                                                 \\n', '# \\n', 'loop_\\n', '_pdbx_chem_comp_identifier.comp_id \\n', '_pdbx_chem_comp_identifier.type \\n', '_pdbx_chem_comp_identifier.program \\n', '_pdbx_chem_comp_identifier.program_version \\n', '_pdbx_chem_comp_identifier.identifier \\n', 'PRD_000001 \"SYSTEMATIC NAME\" ACDLabs              12.01 \"2-amino-4,6-dimethyl-3-oxo-N~9~-[(6R,9S,10S,13S,18aS)-2,5,9-trimethyl-1,4,7,11,14-pentaoxo-6,13-di(propan-2-yl)hexadecahydro-1H-pyrrolo[2,1-i][1,4,7,10,13]oxatetraazacyclohexadecin-10-yl]-N~1~-[(6S,9S,10R,13R,18aS)-2,5,9-trimethyl-1,4,7,11,14-pentaoxo-6,13-di(propan-2-yl)hexadecahydro-1H-pyrrolo[2,1-i][1,4,7,10,13]oxatetraazacyclohexadecin-10-yl]-3H-phenoxazine-1,9-dicarboxamide\" \\n', 'PRD_000001 \"SYSTEMATIC NAME\" \"OpenEye OEToolkits\" 1.7.6 \"2-azanyl-4,6-dimethyl-3-oxidanylidene-N1,N9-bis[(3R,6S,7R,10S,16S)-7,11,14-trimethyl-2,5,9,12,15-pentakis(oxidanylidene)-3,10-di(propan-2-yl)-8-oxa-1,4,11,14-tetrazabicyclo[14.3.0]nonadecan-6-yl]phenoxazine-1,9-dicarboxamide\"                                                                                                                                                              \\n', '# \\n']\n"
     ]
    }
   ],
   "source": [
    "print(lines)"
   ]
  },
  {
   "cell_type": "code",
   "execution_count": 3,
   "id": "3b36d474",
   "metadata": {},
   "outputs": [
    {
     "name": "stdout",
     "output_type": "stream",
     "text": [
      "27\n",
      "227\n",
      "418\n",
      "432\n",
      "[27, 227, 418, 432]\n",
      "_chem_comp_bond.comp_id \n",
      "\n"
     ]
    }
   ],
   "source": [
    "block=[]\n",
    "for i,l in enumerate(lines):\n",
    "    if 'loop' in l:\n",
    "        print(i)\n",
    "        block.append(i)\n",
    "print (block)    \n",
    "\n",
    "print(lines[block[1]+1])"
   ]
  },
  {
   "cell_type": "code",
   "execution_count": 4,
   "id": "f90b2486",
   "metadata": {},
   "outputs": [
    {
     "name": "stdout",
     "output_type": "stream",
     "text": [
      "comp_id\n",
      "atom_id\n",
      "alt_atom_id\n",
      "type_symbol\n",
      "charge\n",
      "pdbx_align\n",
      "pdbx_aromatic_flag\n",
      "pdbx_leaving_atom_flag\n",
      "pdbx_stereo_config\n",
      "model_Cartn_x\n",
      "model_Cartn_y\n",
      "model_Cartn_z\n",
      "pdbx_model_Cartn_x_ideal\n",
      "pdbx_model_Cartn_y_ideal\n",
      "pdbx_model_Cartn_z_ideal\n",
      "pdbx_component_comp_id\n",
      "pdbx_residue_numbering\n",
      "pdbx_component_atom_id\n",
      "pdbx_polymer_type\n",
      "pdbx_ref_id\n",
      "pdbx_component_id\n",
      "pdbx_ordinal\n",
      "50\n"
     ]
    }
   ],
   "source": [
    "chem_comp_atom_header=[]\n",
    "for i in range(block[0]+1,block[1]):\n",
    "    if '_chem_comp_atom' in lines[i]:\n",
    "        chem_comp_atom_header.append(lines[i].replace('_chem_comp_atom.','').replace(' \\n',''))\n",
    "    else:\n",
    "        dataframe_nodes_start=i\n",
    "        break\n",
    "\n",
    "print(*chem_comp_atom_header, sep = \"\\n\")\n",
    "print(dataframe_nodes_start)"
   ]
  },
  {
   "cell_type": "code",
   "execution_count": 5,
   "id": "272af45b",
   "metadata": {},
   "outputs": [
    {
     "name": "stdout",
     "output_type": "stream",
     "text": [
      "comp_id\n",
      "atom_id_1\n",
      "atom_id_2\n",
      "value_order\n",
      "pdbx_aromatic_flag\n",
      "pdbx_stereo_config\n",
      "pdbx_ordinal\n",
      "235\n"
     ]
    }
   ],
   "source": [
    "chem_comp_bond_header=[]\n",
    "for i in range(block[1]+1,block[2]):\n",
    "    if '_chem_comp_bond' in lines[i]:\n",
    "        chem_comp_bond_header.append(lines[i].replace('_chem_comp_bond.','').replace(' \\n',''))\n",
    "    else:\n",
    "        dataframe_edges_start=i\n",
    "        break\n",
    "\n",
    "print(*chem_comp_bond_header, sep = \"\\n\")\n",
    "print(dataframe_edges_start)"
   ]
  },
  {
   "cell_type": "code",
   "execution_count": 6,
   "id": "fcf4eb46",
   "metadata": {},
   "outputs": [],
   "source": [
    "data=[]\n",
    "for i in range (dataframe_nodes_start,block[1]-1):\n",
    "    data.append(lines[i].split())"
   ]
  },
  {
   "cell_type": "code",
   "execution_count": 7,
   "id": "81cfb6ab",
   "metadata": {},
   "outputs": [],
   "source": [
    "import pyspark\n",
    "from pyspark.sql import SparkSession\n",
    "from pyspark import SparkContext\n",
    "spark = SparkSession.builder.getOrCreate()\n",
    "sc = spark.sparkContext\n",
    "from pyspark.sql.functions import *"
   ]
  },
  {
   "cell_type": "code",
   "execution_count": null,
   "id": "2f8fe099",
   "metadata": {},
   "outputs": [],
   "source": [
    "df_nodes = spark.createDataFrame(data=data, schema = chem_comp_atom_header)\n",
    "df_nodes.select('atom_id','type_symbol','model_Cartn_x','model_Cartn_y','model_Cartn_z').show(5)"
   ]
  },
  {
   "cell_type": "code",
   "execution_count": null,
   "id": "14d58c4a",
   "metadata": {},
   "outputs": [],
   "source": [
    "data=[]\n",
    "for i in range (dataframe_edges_start,block[2]-1):\n",
    "    data.append(lines[i].split())"
   ]
  },
  {
   "cell_type": "code",
   "execution_count": null,
   "id": "dfc1e88b",
   "metadata": {},
   "outputs": [],
   "source": [
    "df_edges = spark.createDataFrame(data=data, schema = chem_comp_bond_header)\n",
    "df_edges.show(5)"
   ]
  },
  {
   "cell_type": "code",
   "execution_count": null,
   "id": "c5aebfe9",
   "metadata": {},
   "outputs": [],
   "source": [
    "from __future__  import print_function  # Python 2/3 compatibility\n",
    "\n",
    "from gremlin_python import statics\n",
    "from gremlin_python.structure.graph import Graph\n",
    "from gremlin_python.process.graph_traversal import __, GraphTraversalSource\n",
    "from gremlin_python.process.strategies import *\n",
    "from gremlin_python.driver.driver_remote_connection import DriverRemoteConnection"
   ]
  },
  {
   "cell_type": "code",
   "execution_count": null,
   "id": "d434bf0f",
   "metadata": {},
   "outputs": [],
   "source": [
    "graph = Graph()\n",
    "\n",
    "remoteConn = DriverRemoteConnection('ws://localhost:8182/gremlin','g')\n",
    "g = graph.traversal().withRemote(remoteConn)"
   ]
  },
  {
   "cell_type": "code",
   "execution_count": null,
   "id": "d9157557",
   "metadata": {},
   "outputs": [],
   "source": [
    "import nest_asyncio\n",
    "nest_asyncio.apply()"
   ]
  },
  {
   "cell_type": "code",
   "execution_count": null,
   "id": "2ea41402",
   "metadata": {},
   "outputs": [],
   "source": [
    "g.V().count().next()  # to validate connection, should return ‘0’"
   ]
  },
  {
   "cell_type": "code",
   "execution_count": null,
   "id": "29b721c5",
   "metadata": {},
   "outputs": [],
   "source": [
    "df_nodes_collection = df_nodes.collect()\n",
    "for row in df_nodes_collection:\n",
    "    g.addV(row['type_symbol']).property('atom_id', row['atom_id']).next()\n",
    "g.V().count().next()"
   ]
  },
  {
   "cell_type": "code",
   "execution_count": null,
   "id": "3e23cd9b",
   "metadata": {},
   "outputs": [],
   "source": [
    "df_edges.show(3)"
   ]
  },
  {
   "cell_type": "code",
   "execution_count": null,
   "id": "a2addff5",
   "metadata": {},
   "outputs": [],
   "source": [
    "df_edges_collection = df_edges.collect()\n",
    "\n",
    "for row in df_edges_collection:\n",
    "    g.V(g.V().has('atom_id',row['atom_id_1']).next())\\\n",
    "    .addE(row['value_order'])\\\n",
    "    .to(__.V(g.V().has('atom_id',row['atom_id_2']).next())).next()"
   ]
  },
  {
   "cell_type": "code",
   "execution_count": null,
   "id": "8b59130b",
   "metadata": {},
   "outputs": [],
   "source": [
    "connections = g.E().valueMap(True).toList()\n",
    "print(connections)"
   ]
  },
  {
   "cell_type": "code",
   "execution_count": null,
   "id": "d497d9d1",
   "metadata": {},
   "outputs": [],
   "source": []
  }
 ],
 "metadata": {
  "kernelspec": {
   "display_name": "Python 3 (ipykernel)",
   "language": "python",
   "name": "python3"
  },
  "language_info": {
   "codemirror_mode": {
    "name": "ipython",
    "version": 3
   },
   "file_extension": ".py",
   "mimetype": "text/x-python",
   "name": "python",
   "nbconvert_exporter": "python",
   "pygments_lexer": "ipython3",
   "version": "3.11.5"
  }
 },
 "nbformat": 4,
 "nbformat_minor": 5
}
